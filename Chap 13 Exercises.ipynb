{
 "cells": [
  {
   "cell_type": "markdown",
   "metadata": {},
   "source": [
    "Chapter 13 Exercises"
   ]
  },
  {
   "cell_type": "code",
   "execution_count": 16,
   "metadata": {},
   "outputs": [
    {
     "name": "stdout",
     "output_type": "stream",
     "text": [
      "Done\n"
     ]
    }
   ],
   "source": [
    "import numpy as np\n",
    "import pandas as pd\n",
    "import matplotlib.pyplot as plt\n",
    "import statsmodels.api as sm\n",
    "from ISLP import load_data\n",
    "\n",
    "from scipy.stats import \\\n",
    "    (ttest_1samp,\n",
    "     ttest_rel,\n",
    "     ttest_ind,\n",
    "     t as t_dbn)\n",
    "from statsmodels.stats.multicomp import \\\n",
    "     pairwise_tukeyhsd\n",
    "from statsmodels.stats.multitest import \\\n",
    "     multipletests as mult_test\n",
    "\n",
    "print(\"Done\")"
   ]
  },
  {
   "cell_type": "markdown",
   "metadata": {},
   "source": [
    "8"
   ]
  },
  {
   "cell_type": "code",
   "execution_count": 17,
   "metadata": {},
   "outputs": [],
   "source": [
    "rng = np.random.default_rng(1)\n",
    "n, m = 20, 100\n",
    "X = rng.normal(size=(n, m))"
   ]
  },
  {
   "cell_type": "markdown",
   "metadata": {},
   "source": [
    "A"
   ]
  },
  {
   "cell_type": "code",
   "execution_count": 18,
   "metadata": {},
   "outputs": [],
   "source": [
    "p_values = np.empty(100)\n",
    "for i in range(100):\n",
    "   p_values[i] = ttest_1samp(X[:,i], 0).pvalue\n"
   ]
  },
  {
   "cell_type": "code",
   "execution_count": 23,
   "metadata": {},
   "outputs": [
    {
     "data": {
      "text/plain": [
       "array([5.38801264e-02, 2.02572586e-01, 8.56777131e-01, 6.19586963e-01,\n",
       "       4.66053738e-01, 8.99407380e-01, 6.54314667e-01, 2.51122603e-01,\n",
       "       2.44481627e-01, 7.79596231e-02, 2.23867120e-01, 1.18753604e-01,\n",
       "       9.16142811e-01, 2.59936463e-01, 8.06613377e-04, 1.68754852e-01,\n",
       "       2.24102132e-01, 4.66990660e-01, 9.17115858e-01, 3.24539642e-01,\n",
       "       7.55006259e-02, 2.26051291e-01, 3.71947638e-01, 5.50363076e-01,\n",
       "       5.06617712e-01, 1.77938985e-01, 4.95026920e-01, 3.55394796e-02,\n",
       "       7.86809820e-01, 3.91440181e-01, 5.97764221e-01, 4.93905898e-01,\n",
       "       9.09168824e-01, 9.03392460e-01, 7.69811614e-01, 8.79382732e-02,\n",
       "       2.98052636e-01, 3.34499336e-01, 5.86508435e-01, 2.29332821e-02,\n",
       "       9.69657768e-02, 8.52533463e-01, 1.27961775e-01, 5.23975261e-01,\n",
       "       9.55121024e-03, 8.74269694e-01, 5.35129668e-01, 3.81090333e-01,\n",
       "       4.45682897e-01, 3.93321809e-01, 6.56456680e-02, 1.72261062e-01,\n",
       "       5.53309877e-01, 8.77870665e-01, 7.67945550e-01, 5.28061448e-01,\n",
       "       2.08048085e-01, 2.20365739e-01, 2.90823382e-01, 8.72087208e-01,\n",
       "       3.22495842e-01, 5.92836128e-01, 1.54661429e-01, 9.00639622e-01,\n",
       "       3.44125210e-01, 2.17409349e-01, 9.62541069e-01, 1.53472626e-01,\n",
       "       5.54645240e-01, 3.12346367e-01, 5.43198324e-01, 8.66194041e-01,\n",
       "       5.02656345e-02, 9.11792647e-01, 3.80095208e-01, 6.86421488e-01,\n",
       "       1.84279489e-01, 3.96498952e-01, 8.33179411e-01, 6.26893134e-01,\n",
       "       1.38025098e-01, 4.67630636e-01, 5.92489473e-01, 4.97506474e-01,\n",
       "       4.64264700e-01, 7.24439700e-01, 5.77075135e-01, 6.40730270e-01,\n",
       "       5.24852522e-01, 8.43673308e-01, 1.13958825e-01, 7.01899396e-01,\n",
       "       8.96808950e-01, 3.31601161e-01, 8.59828218e-01, 1.21856970e-01,\n",
       "       3.25343012e-01, 1.30219767e-01, 4.37973175e-01, 8.96248983e-01])"
      ]
     },
     "execution_count": 23,
     "metadata": {},
     "output_type": "execute_result"
    }
   ],
   "source": [
    "p_values"
   ]
  },
  {
   "cell_type": "code",
   "execution_count": 19,
   "metadata": {},
   "outputs": [
    {
     "data": {
      "text/plain": [
       "array([0., 0., 0., 0., 0., 0., 0., 0., 0., 0., 0., 0., 0., 0., 1., 0., 0.,\n",
       "       0., 0., 0., 0., 0., 0., 0., 0., 0., 0., 1., 0., 0., 0., 0., 0., 0.,\n",
       "       0., 0., 0., 0., 0., 1., 0., 0., 0., 0., 1., 0., 0., 0., 0., 0., 0.,\n",
       "       0., 0., 0., 0., 0., 0., 0., 0., 0., 0., 0., 0., 0., 0., 0., 0., 0.,\n",
       "       0., 0., 0., 0., 0., 0., 0., 0., 0., 0., 0., 0., 0., 0., 0., 0., 0.,\n",
       "       0., 0., 0., 0., 0., 0., 0., 0., 0., 0., 0., 0., 0., 0., 0.])"
      ]
     },
     "execution_count": 19,
     "metadata": {},
     "output_type": "execute_result"
    }
   ],
   "source": [
    "reject = np.empty(100)\n",
    "for v in range(100):\n",
    "    if p_values[v] < 0.05:\n",
    "        reject[v] = 1\n",
    "    else:\n",
    "        reject[v] = 0\n",
    "\n",
    "reject"
   ]
  },
  {
   "cell_type": "markdown",
   "metadata": {},
   "source": [
    "B"
   ]
  },
  {
   "cell_type": "code",
   "execution_count": 20,
   "metadata": {},
   "outputs": [
    {
     "data": {
      "text/plain": [
       "4.0"
      ]
     },
     "execution_count": 20,
     "metadata": {},
     "output_type": "execute_result"
    }
   ],
   "source": [
    "np.sum(reject)"
   ]
  },
  {
   "cell_type": "markdown",
   "metadata": {},
   "source": [
    "We reject 4 hypothesis"
   ]
  },
  {
   "cell_type": "markdown",
   "metadata": {},
   "source": [
    "C"
   ]
  },
  {
   "cell_type": "code",
   "execution_count": 25,
   "metadata": {},
   "outputs": [
    {
     "data": {
      "text/plain": [
       "(array([False, False, False, False, False, False, False, False, False,\n",
       "        False, False, False, False, False, False, False, False, False,\n",
       "        False, False, False, False, False, False, False, False, False,\n",
       "        False, False, False, False, False, False, False, False, False,\n",
       "        False, False, False, False, False, False, False, False, False,\n",
       "        False, False, False, False, False, False, False, False, False,\n",
       "        False, False, False, False, False, False, False, False, False,\n",
       "        False, False, False, False, False, False, False, False, False,\n",
       "        False, False, False, False, False, False, False, False, False,\n",
       "        False, False, False, False, False, False, False, False, False,\n",
       "        False, False, False, False, False, False, False, False, False,\n",
       "        False]),\n",
       " array([1.        , 1.        , 1.        , 1.        , 1.        ,\n",
       "        1.        , 1.        , 1.        , 1.        , 1.        ,\n",
       "        1.        , 1.        , 1.        , 1.        , 0.08066134,\n",
       "        1.        , 1.        , 1.        , 1.        , 1.        ,\n",
       "        1.        , 1.        , 1.        , 1.        , 1.        ,\n",
       "        1.        , 1.        , 1.        , 1.        , 1.        ,\n",
       "        1.        , 1.        , 1.        , 1.        , 1.        ,\n",
       "        1.        , 1.        , 1.        , 1.        , 1.        ,\n",
       "        1.        , 1.        , 1.        , 1.        , 0.94556981,\n",
       "        1.        , 1.        , 1.        , 1.        , 1.        ,\n",
       "        1.        , 1.        , 1.        , 1.        , 1.        ,\n",
       "        1.        , 1.        , 1.        , 1.        , 1.        ,\n",
       "        1.        , 1.        , 1.        , 1.        , 1.        ,\n",
       "        1.        , 1.        , 1.        , 1.        , 1.        ,\n",
       "        1.        , 1.        , 1.        , 1.        , 1.        ,\n",
       "        1.        , 1.        , 1.        , 1.        , 1.        ,\n",
       "        1.        , 1.        , 1.        , 1.        , 1.        ,\n",
       "        1.        , 1.        , 1.        , 1.        , 1.        ,\n",
       "        1.        , 1.        , 1.        , 1.        , 1.        ,\n",
       "        1.        , 1.        , 1.        , 1.        , 1.        ]),\n",
       " 0.0005128014162623096,\n",
       " 0.0005)"
      ]
     },
     "execution_count": 25,
     "metadata": {},
     "output_type": "execute_result"
    }
   ],
   "source": [
    "mult_test(p_values, method = \"holm\", alpha=0.05)"
   ]
  },
  {
   "cell_type": "markdown",
   "metadata": {},
   "source": [
    "We cannot reject any of the hypothesis"
   ]
  },
  {
   "cell_type": "markdown",
   "metadata": {},
   "source": [
    "D"
   ]
  },
  {
   "cell_type": "code",
   "execution_count": 26,
   "metadata": {},
   "outputs": [
    {
     "data": {
      "text/plain": [
       "array([0.7535043 , 0.7535043 , 0.92637965, 0.85875772, 0.84037158,\n",
       "       0.92637965, 0.87241956, 0.78475813, 0.78475813, 0.7535043 ])"
      ]
     },
     "execution_count": 26,
     "metadata": {},
     "output_type": "execute_result"
    }
   ],
   "source": [
    "qvalues = mult_test(p_values, method = \"fdr_bh\")[1]\n",
    "qvalues[:10]"
   ]
  },
  {
   "cell_type": "code",
   "execution_count": 27,
   "metadata": {},
   "outputs": [
    {
     "data": {
      "text/plain": [
       "0"
      ]
     },
     "execution_count": 27,
     "metadata": {},
     "output_type": "execute_result"
    }
   ],
   "source": [
    "(qvalues <= 0.05).sum()"
   ]
  },
  {
   "cell_type": "markdown",
   "metadata": {},
   "source": [
    "We still cannot reject any of the null hypothesis, which is what we expect based off the simulated data"
   ]
  }
 ],
 "metadata": {
  "kernelspec": {
   "display_name": "Python 3",
   "language": "python",
   "name": "python3"
  },
  "language_info": {
   "codemirror_mode": {
    "name": "ipython",
    "version": 3
   },
   "file_extension": ".py",
   "mimetype": "text/x-python",
   "name": "python",
   "nbconvert_exporter": "python",
   "pygments_lexer": "ipython3",
   "version": "3.10.9"
  },
  "orig_nbformat": 4
 },
 "nbformat": 4,
 "nbformat_minor": 2
}
